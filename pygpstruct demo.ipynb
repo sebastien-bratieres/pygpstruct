{
 "metadata": {
  "name": "",
  "signature": "sha256:bf0906cb7b25555483b765681e6a04c78f8d56c1e0cd13cd853c7c2dc8b9750c"
 },
 "nbformat": 3,
 "nbformat_minor": 0,
 "worksheets": [
  {
   "cells": [
    {
     "cell_type": "markdown",
     "metadata": {},
     "source": [
      "This code implements the GPstruct learning algorithm:\n",
      "- in the chain case, as presented in our [arXiv paper](http://arxiv.org/abs/1307.3846)\n",
      "- in the grid case, as presented in our [ICML 2014 paper](http://jmlr.org/proceedings/papers/v32/bratieres14.html)\n",
      "\n",
      "### Requirements ###\n",
      "\n",
      "The code has been tested with Python 2.7.8 and 3.4.1, Numpy 1.8.1, Numba 0.13.3, on Ubuntu 12.04.\n",
      "\n",
      "#### Source code files ####\n",
      "\n",
      "There are basically two groups of code files:\n",
      "- first group deals with the core MCMC loop, in which both training and prediction is carried out (by default at each MCMC iteration, cf param prediction_thinning). The ESS algo sits there too. And this deals with the GP aspect of GPstruct: kernel matrices, kernel functions, f\\*|f etc. My notation follows the Rasmussen and Williams book.\n",
      "- second group deals with likelihoods and computing marginals from data, given a vector of latent variables f. We've worked with chains and grids. In the chain case, I've coded the forward-backwards algo directly for likelihood and computing the marginals. In the grid case, we've looked at approximate likelihood with pseudo-likelihood (which I coded up) and approximate inference with TRW, as well as exact likelihood (ie max product) and inference (ie exact belief propagation in the grid -- can only be applied to small grids of course). TRW, and the exact schemes make use of a 3rd party library, libDAI, and a Python wrapper, pylibdai, cf URLs in grid_libdai_inference.py.\n",
      "\n",
      "Chain data: we used 4 tasks from the CRF++ dataset. The .x files have got sparse feature vectors for each position in the chain (ie word). The .y vectors have got the reference labels for each word. So my program is not concerned with feature extraction at all.\n",
      "\n",
      "#### Gotchas ####\n",
      "\n",
      "learn_predic_gpstruct ca line 218, computation of f\\_star\\_mean: Note that because of eq 4 (arXiv preprint), the kernel matrices need to contain only data for k_x, not for k_u (which contains k_x blocks on the diagonal). Therefore when eg multiplying  with an f, you need to do as if you were repeating the kernel matrix on the diagonal, and multiply by blocks of f every time (iterating over labels y_t).\n",
      "\n",
      "Sampling from f\\* (as opposed to taking the mode/ mean f\\*\\_MAP as now) is not implemented yet, it doesn't seem to bring a performance improvement, cf arXiv paper.\n",
      "\n",
      "Not implemented either at this point (working on it): hyperparameter sampling.\n",
      "\n",
      "The ICML paper requires splitting up training and prediction in order to do ensemble learning. That's not implemented yet. It requires being able to compute pseudo-likelihoods on grids where only some pixels are seen (ie there are occluded pixels); that's implemented in the PL code (cf visible_pixels argument).\n",
      "\n",
      "hashable_compute_kStarTKInv_unary: will cache the computation of this kernel matrix, in case it can be re-used for a subsequent run on the same data, if it is still in memory."
     ]
    },
    {
     "cell_type": "code",
     "collapsed": false,
     "input": [
      "pygpstruct_location = '/home/sb358/pygpstruct'\n",
      "result_prefix='/tmp/pygpstruct-demo/'"
     ],
     "language": "python",
     "metadata": {},
     "outputs": [],
     "prompt_number": 1
    },
    {
     "cell_type": "code",
     "collapsed": false,
     "input": [
      "import sys\n",
      "sys.path.append(pygpstruct_location + '/src/') # replace by your path to .py files\n",
      "import prepare_from_data_chain\n",
      "import imp\n",
      "imp.reload(prepare_from_data_chain)"
     ],
     "language": "python",
     "metadata": {},
     "outputs": [
      {
       "metadata": {},
       "output_type": "pyout",
       "prompt_number": 2,
       "text": [
        "<module 'prepare_from_data_chain' from '/home/sb358/pygpstruct/src/prepare_from_data_chain.pyc'>"
       ]
      }
     ],
     "prompt_number": 2
    },
    {
     "cell_type": "code",
     "collapsed": false,
     "input": [
      "n_data=10\n",
      "!rm -rf /tmp/pygpstruct-demo\n",
      "prepare_from_data_chain.learn_predict_gpstruct_wrapper(data_indices_train = np.arange(n_data), # training data= first 10 data files\n",
      "                                                       data_indices_test = np.arange(n_data, n_data*2), # test data= next 10 files\n",
      "                                                       result_prefix=result_prefix, # where to store the result files\n",
      "                                                       data_folder = pygpstruct_location + '/data/japanesene/',\n",
      "                                                       n_samples=101, # how many MCMC iterations\n",
      "                                                       task='japanesene',\n",
      "                                                       prediction_thinning=100\n",
      "                                                       )\n"
     ],
     "language": "python",
     "metadata": {},
     "outputs": [
      {
       "output_type": "stream",
       "stream": "stdout",
       "text": [
        "2014-08-14 20:31:56,956Z - DEBUG - learn_predict_gpstruct started with arguments: {'kernel': <function kernel_linear_unary at 0x7f6500616320>, 'console_log': True, 'random_seed': 0, 'hp_mode': 0, 'stop_check': None, 'prior': 1, 'prepare_from_data': <function <lambda> at 0x7f6500616e60>, 'hp_bin_init': 0.01, 'prediction_thinning': 100, 'noise_param': 0.0001, 'n_f_star': 0, 'n_samples': 101, 'hp_thinning': 100000, 'result_prefix': '/tmp/pygpstruct-demo/'}\n"
       ]
      },
      {
       "output_type": "stream",
       "stream": "stdout",
       "text": [
        "2014-08-14 20:31:56,958Z - DEBUG - prepare_from_data_chain started with arguments: {'data_folder': '/home/sb358/pygpstruct/data/japanesene/', 'data_indices_train': array([0, 1, 2, 3, 4, 5, 6, 7, 8, 9]), 'n_labels': 17, 'native_implementation': False, 'data_indices_test': array([10, 11, 12, 13, 14, 15, 16, 17, 18, 19]), 'n_features_x': 102799, 'logger': <logging.Logger object at 0x7f65169c4f90>}\n"
       ]
      },
      {
       "output_type": "stream",
       "stream": "stdout",
       "text": [
        "2014-08-14 20:31:57,045Z - DEBUG - prepare kernel matrices\n"
       ]
      },
      {
       "output_type": "stream",
       "stream": "stdout",
       "text": [
        "2014-08-14 20:31:57,060Z - DEBUG - start MCMC chain\n"
       ]
      },
      {
       "output_type": "stream",
       "stream": "stdout",
       "text": [
        "2014-08-14 20:31:59,221Z - INFO - ESS it 0 -- scaled LL train = -675.36 -- test set error | last f = 0.79149 -- scaled LL test | last f = -602.05 -- test set error (avg over f's)= 0.79149 -- average per-atom negative log posterior marginals = 2.0468\n"
       ]
      },
      {
       "output_type": "stream",
       "stream": "stdout",
       "text": [
        "2014-08-14 20:32:06,423Z - INFO - ESS it 100 -- scaled LL train = -374.95 -- test set error | last f = 0.24681 -- scaled LL test | last f = -201.49 -- test set error (avg over f's)= 0.24255 -- average per-atom negative log posterior marginals = 0.68085\n"
       ]
      }
     ],
     "prompt_number": 3
    },
    {
     "cell_type": "heading",
     "level": 3,
     "metadata": {},
     "source": [
      "Speed-up: C implementation for forwards-backwards"
     ]
    },
    {
     "cell_type": "markdown",
     "metadata": {},
     "source": [
      "I originally implemented the forwards-backwards algorithm used to compute the likelihood in the MCMC algorithm used for training in Numba. Because this is the speed bottleneck for training, I have reimplemented it in C as a Python module, which needs to be compiled separately:"
     ]
    },
    {
     "cell_type": "code",
     "collapsed": false,
     "input": [
      "! cd /home/sb358/pygpstruct/src/chain_forwards_backwards_native/; python setup.py install"
     ],
     "language": "python",
     "metadata": {},
     "outputs": [
      {
       "output_type": "stream",
       "stream": "stdout",
       "text": [
        "running install\r\n",
        "running build\r\n",
        "running build_ext\r\n",
        "building 'chain_forwards_backwards_native' extension\r\n",
        "gcc -pthread -fno-strict-aliasing -g -O2 -DNDEBUG -g -fwrapv -O3 -Wall -Wstrict-prototypes -fPIC -I/home/sb358/anaconda/lib/python2.7/site-packages/numpy/core/include -I/home/sb358/anaconda/include/python2.7 -c chain_forwards_backwards_native.c -o build/temp.linux-x86_64-2.7/chain_forwards_backwards_native.o\r\n"
       ]
      },
      {
       "output_type": "stream",
       "stream": "stdout",
       "text": [
        "In file included from /home/sb358/anaconda/lib/python2.7/site-packages/numpy/core/include/numpy/ndarraytypes.h:1761:0,\r\n",
        "                 from /home/sb358/anaconda/lib/python2.7/site-packages/numpy/core/include/numpy/ndarrayobject.h:17,\r\n",
        "                 from /home/sb358/anaconda/lib/python2.7/site-packages/numpy/core/include/numpy/arrayobject.h:4,\r\n",
        "                 from chain_forwards_backwards_native.c:13:\r\n",
        "/home/sb358/anaconda/lib/python2.7/site-packages/numpy/core/include/numpy/npy_1_7_deprecated_api.h:15:2: warning: #warning \"Using deprecated NumPy API, disable it by \" \"#defining NPY_NO_DEPRECATED_API NPY_1_7_API_VERSION\" [-Wcpp]\r\n"
       ]
      },
      {
       "output_type": "stream",
       "stream": "stdout",
       "text": [
        "gcc -pthread -shared build/temp.linux-x86_64-2.7/chain_forwards_backwards_native.o -L/home/sb358/anaconda/lib -lpython2.7 -o build/lib.linux-x86_64-2.7/chain_forwards_backwards_native.so\r\n"
       ]
      },
      {
       "output_type": "stream",
       "stream": "stdout",
       "text": [
        "running install_lib\r\n",
        "copying build/lib.linux-x86_64-2.7/chain_forwards_backwards_native.so -> /home/sb358/anaconda/lib/python2.7/site-packages\r\n"
       ]
      },
      {
       "output_type": "stream",
       "stream": "stdout",
       "text": [
        "running install_egg_info\r\n",
        "Removing /home/sb358/anaconda/lib/python2.7/site-packages/UNKNOWN-0.0.0-py2.7.egg-info\r\n",
        "Writing /home/sb358/anaconda/lib/python2.7/site-packages/UNKNOWN-0.0.0-py2.7.egg-info\r\n"
       ]
      }
     ],
     "prompt_number": 4
    },
    {
     "cell_type": "markdown",
     "metadata": {},
     "source": [
      "Then the native implementation can be used instead of the default Numba implementation by passing the native_implementation=True argument; that makes the run much faster:"
     ]
    },
    {
     "cell_type": "code",
     "collapsed": false,
     "input": [
      "n_data=10\n",
      "!rm -rf /tmp/pygpstruct-demo\n",
      "prepare_from_data_chain.learn_predict_gpstruct_wrapper(data_indices_train = np.arange(n_data), # training data= first 10 data files\n",
      "                                                       data_indices_test = np.arange(n_data, n_data*2), # test data= next 10 files\n",
      "                                                       result_prefix='/tmp/pygpstruct-demo/', # where to store the result files\n",
      "                                                       data_folder = pygpstruct_location + '/data/japanesene/',\n",
      "                                                       n_samples=101, # how many MCMC iterations\n",
      "                                                       task='japanesene',\n",
      "                                                       native_implementation = True,\n",
      "                                                       prediction_thinning=10\n",
      "                                                       )\n"
     ],
     "language": "python",
     "metadata": {},
     "outputs": [
      {
       "output_type": "stream",
       "stream": "stdout",
       "text": [
        "2014-08-14 20:32:42,705Z - DEBUG - learn_predict_gpstruct started with arguments: {'kernel': <function kernel_linear_unary at 0x7f6500616320>, 'console_log': True, 'random_seed': 0, 'hp_mode': 0, 'stop_check': None, 'prior': 1, 'prepare_from_data': <function <lambda> at 0x7f6500616c08>, 'hp_bin_init': 0.01, 'prediction_thinning': 10, 'noise_param': 0.0001, 'n_f_star': 0, 'n_samples': 101, 'hp_thinning': 100000, 'result_prefix': '/tmp/pygpstruct-demo/'}\n"
       ]
      },
      {
       "output_type": "stream",
       "stream": "stdout",
       "text": [
        "2014-08-14 20:32:42,707Z - DEBUG - prepare_from_data_chain started with arguments: {'data_folder': '/home/sb358/pygpstruct/data/japanesene/', 'data_indices_train': array([0, 1, 2, 3, 4, 5, 6, 7, 8, 9]), 'n_labels': 17, 'native_implementation': True, 'data_indices_test': array([10, 11, 12, 13, 14, 15, 16, 17, 18, 19]), 'n_features_x': 102799, 'logger': <logging.Logger object at 0x7f65169c4f90>}\n"
       ]
      },
      {
       "output_type": "stream",
       "stream": "stdout",
       "text": [
        "2014-08-14 20:32:42,793Z - DEBUG - prepare kernel matrices\n"
       ]
      },
      {
       "output_type": "stream",
       "stream": "stdout",
       "text": [
        "2014-08-14 20:32:42,803Z - DEBUG - start MCMC chain\n"
       ]
      },
      {
       "output_type": "stream",
       "stream": "stdout",
       "text": [
        "2014-08-14 20:32:42,909Z - INFO - ESS it 0 -- scaled LL train = -675.36 -- test set error | last f = 0.79149 -- scaled LL test | last f = -602.05 -- test set error (avg over f's)= 0.79149 -- average per-atom negative log posterior marginals = 2.0468\n"
       ]
      },
      {
       "output_type": "stream",
       "stream": "stdout",
       "text": [
        "2014-08-14 20:32:43,034Z - INFO - ESS it 10 -- scaled LL train = -620.63 -- test set error | last f = 0.64255 -- scaled LL test | last f = -498.84 -- test set error (avg over f's)= 0.65957 -- average per-atom negative log posterior marginals = 1.7617\n"
       ]
      },
      {
       "output_type": "stream",
       "stream": "stdout",
       "text": [
        "2014-08-14 20:32:43,162Z - INFO - ESS it 20 -- scaled LL train = -610.83 -- test set error | last f = 0.64681 -- scaled LL test | last f = -481.72 -- test set error (avg over f's)= 0.65532 -- average per-atom negative log posterior marginals = 1.566\n"
       ]
      },
      {
       "output_type": "stream",
       "stream": "stdout",
       "text": [
        "2014-08-14 20:32:43,283Z - INFO - ESS it 30 -- scaled LL train = -595.01 -- test set error | last f = 0.61702 -- scaled LL test | last f = -444.26 -- test set error (avg over f's)= 0.58298 -- average per-atom negative log posterior marginals = 1.4383\n"
       ]
      },
      {
       "output_type": "stream",
       "stream": "stdout",
       "text": [
        "2014-08-14 20:32:43,404Z - INFO - ESS it 40 -- scaled LL train = -529.83 -- test set error | last f = 0.43404 -- scaled LL test | last f = -348.88 -- test set error (avg over f's)= 0.48936 -- average per-atom negative log posterior marginals = 1.2468\n"
       ]
      },
      {
       "output_type": "stream",
       "stream": "stdout",
       "text": [
        "2014-08-14 20:32:43,525Z - INFO - ESS it 50 -- scaled LL train = -470.62 -- test set error | last f = 0.35319 -- scaled LL test | last f = -309.94 -- test set error (avg over f's)= 0.41277 -- average per-atom negative log posterior marginals = 1.034\n"
       ]
      },
      {
       "output_type": "stream",
       "stream": "stdout",
       "text": [
        "2014-08-14 20:32:43,640Z - INFO - ESS it 60 -- scaled LL train = -431.59 -- test set error | last f = 0.26809 -- scaled LL test | last f = -254.05 -- test set error (avg over f's)= 0.3234 -- average per-atom negative log posterior marginals = 0.89362\n"
       ]
      },
      {
       "output_type": "stream",
       "stream": "stdout",
       "text": [
        "2014-08-14 20:32:43,756Z - INFO - ESS it 70 -- scaled LL train = -420.7 -- test set error | last f = 0.29362 -- scaled LL test | last f = -260.42 -- test set error (avg over f's)= 0.30213 -- average per-atom negative log posterior marginals = 0.81702\n"
       ]
      },
      {
       "output_type": "stream",
       "stream": "stdout",
       "text": [
        "2014-08-14 20:32:43,861Z - INFO - ESS it 80 -- scaled LL train = -405.94 -- test set error | last f = 0.2766 -- scaled LL test | last f = -248.94 -- test set error (avg over f's)= 0.28085 -- average per-atom negative log posterior marginals = 0.78298\n"
       ]
      },
      {
       "output_type": "stream",
       "stream": "stdout",
       "text": [
        "2014-08-14 20:32:43,978Z - INFO - ESS it 90 -- scaled LL train = -398.43 -- test set error | last f = 0.2766 -- scaled LL test | last f = -227.23 -- test set error (avg over f's)= 0.25957 -- average per-atom negative log posterior marginals = 0.70213\n"
       ]
      },
      {
       "output_type": "stream",
       "stream": "stdout",
       "text": [
        "2014-08-14 20:32:44,096Z - INFO - ESS it 100 -- scaled LL train = -374.95 -- test set error | last f = 0.24681 -- scaled LL test | last f = -201.49 -- test set error (avg over f's)= 0.25532 -- average per-atom negative log posterior marginals = 0.68085\n"
       ]
      }
     ],
     "prompt_number": 5
    },
    {
     "cell_type": "heading",
     "level": 3,
     "metadata": {},
     "source": [
      "Plotting the MCMC run"
     ]
    },
    {
     "cell_type": "code",
     "collapsed": false,
     "input": [
      "import util\n",
      "util.make_figure(np.arange(5), # display all 5 collected types of data\n",
      "            [('Japanese Named Entity Recognition task', result_prefix + 'results.bin')], # can display several results on same plot by appending tuples to this list\n",
      "            bottom=None, top=None, save_pdf=False, max_display_length=2500)"
     ],
     "language": "python",
     "metadata": {},
     "outputs": [
      {
       "output_type": "stream",
       "stream": "stdout",
       "text": [
        "file_pattern: /tmp/pygpstruct-demo/results.bin\n",
        "matching files: ['/tmp/pygpstruct-demo/results.bin']\n",
        "file_pattern: /tmp/pygpstruct-demo/results.bin\n",
        "matching files: ['/tmp/pygpstruct-demo/results.bin']\n",
        "file_pattern: /tmp/pygpstruct-demo/results.bin"
       ]
      },
      {
       "output_type": "stream",
       "stream": "stdout",
       "text": [
        "\n",
        "matching files: ['/tmp/pygpstruct-demo/results.bin']\n",
        "file_pattern: /tmp/pygpstruct-demo/results.bin\n",
        "matching files: ['/tmp/pygpstruct-demo/results.bin']\n",
        "file_pattern: /tmp/pygpstruct-demo/results.bin"
       ]
      },
      {
       "output_type": "stream",
       "stream": "stdout",
       "text": [
        "\n",
        "matching files: ['/tmp/pygpstruct-demo/results.bin']\n"
       ]
      },
      {
       "metadata": {},
       "output_type": "display_data",
       "png": "[encoded data removed]",
       "text": [
        "<matplotlib.figure.Figure at 0x7f6515f61dd0>"
       ]
      },
      {
       "metadata": {},
       "output_type": "display_data",
       "png": "[encoded data removed]",
       "text": [
        "<matplotlib.figure.Figure at 0x7f64ff659a90>"
       ]
      },
      {
       "metadata": {},
       "output_type": "display_data",
       "png": "[encoded data removed]",
       "text": [
        "<matplotlib.figure.Figure at 0x7f64ff5de850>"
       ]
      },
      {
       "metadata": {},
       "output_type": "display_data",
       "png": "[encoded data removed]",
       "text": [
        "<matplotlib.figure.Figure at 0x7f64ff500690>"
       ]
      },
      {
       "metadata": {},
       "output_type": "display_data",
       "png": "[encoded data removed]",
       "text": [
        "<matplotlib.figure.Figure at 0x7f64ff4e6e10>"
       ]
      }
     ],
     "prompt_number": 6
    },
    {
     "cell_type": "heading",
     "level": 3,
     "metadata": {},
     "source": [
      "Interrupting the training stage, hotstart"
     ]
    },
    {
     "cell_type": "markdown",
     "metadata": {},
     "source": [
      "The MCMC chain's state is saved at every MCMC step; that includes the state of the pseudo-random number generator, the last f, the current log likelihood, the marginals so far etc. \n",
      "\n",
      "The MCMC chain can be interrupted between steps. However, there is no mechanism to prevent it from being stopped while it writes the state files to disk, which would cause the state to be lost. Interrupt the MCMC chain can be done thus:\n",
      "- by reaching n_samples, the number of samples we wanted to draw\n",
      "- by stopping the Python process\n",
      "- by passing to learn_predict_gpstruct_wrapper a parameter stop_check() which is evaluated at every iteration. In util.py, there is an example to stop the chain after some defined run time is over. One could also imagine checking for the existence of a flag file, and stopping the process if the file is created; in this way, a simple touch command would allow stopping the training cleanly.\n",
      "\n",
      "When restarting with the same results directory, the program will check for the existence of saved state files. If it finds them, it will restart from the last saved state and continue the chain. It is the user's responsibility to ensure that the saved state corresponds exactly to the configuration of the experiment that is restarted. For instance, the training and test data should match, and the various other parameters passed to learn_predict_gpstruct should match as well.\n",
      "\n",
      "For example, here we run the chain for 10 samples:"
     ]
    },
    {
     "cell_type": "code",
     "collapsed": false,
     "input": [
      "n_data=10\n",
      "!rm -rf /tmp/pygpstruct-demo\n",
      "prepare_from_data_chain.learn_predict_gpstruct_wrapper(data_indices_train = np.arange(n_data), # training data= first 10 data files\n",
      "                                                       data_indices_test = np.arange(n_data, n_data*2), # test data= next 10 files\n",
      "                                                       result_prefix='/tmp/pygpstruct-demo/', # where to store the result files\n",
      "                                                       data_folder = pygpstruct_location + '/data/japanesene/',\n",
      "                                                       n_samples=10, # how many MCMC iterations\n",
      "                                                       task='japanesene',\n",
      "                                                       prediction_thinning=1\n",
      "                                                       )"
     ],
     "language": "python",
     "metadata": {},
     "outputs": [
      {
       "output_type": "stream",
       "stream": "stdout",
       "text": [
        "2014-08-14 20:32:54,372Z - DEBUG - learn_predict_gpstruct started with arguments: {'kernel': <function kernel_linear_unary at 0x7f6500616320>, 'console_log': True, 'random_seed': 0, 'hp_mode': 0, 'stop_check': None, 'prior': 1, 'prepare_from_data': <function <lambda> at 0x7f64ff307de8>, 'hp_bin_init': 0.01, 'prediction_thinning': 1, 'noise_param': 0.0001, 'n_f_star': 0, 'n_samples': 10, 'hp_thinning': 100000, 'result_prefix': '/tmp/pygpstruct-demo/'}\n"
       ]
      },
      {
       "output_type": "stream",
       "stream": "stdout",
       "text": [
        "2014-08-14 20:32:54,374Z - DEBUG - prepare_from_data_chain started with arguments: {'data_folder': '/home/sb358/pygpstruct/data/japanesene/', 'data_indices_train': array([0, 1, 2, 3, 4, 5, 6, 7, 8, 9]), 'n_labels': 17, 'native_implementation': False, 'data_indices_test': array([10, 11, 12, 13, 14, 15, 16, 17, 18, 19]), 'n_features_x': 102799, 'logger': <logging.Logger object at 0x7f65169c4f90>}\n"
       ]
      },
      {
       "output_type": "stream",
       "stream": "stdout",
       "text": [
        "2014-08-14 20:32:54,462Z - DEBUG - prepare kernel matrices\n"
       ]
      },
      {
       "output_type": "stream",
       "stream": "stdout",
       "text": [
        "2014-08-14 20:32:54,472Z - DEBUG - start MCMC chain\n"
       ]
      },
      {
       "output_type": "stream",
       "stream": "stdout",
       "text": [
        "2014-08-14 20:32:54,550Z - INFO - ESS it 0 -- scaled LL train = -675.36 -- test set error | last f = 0.79149 -- scaled LL test | last f = -602.05 -- test set error (avg over f's)= 0.79149 -- average per-atom negative log posterior marginals = 2.0468\n"
       ]
      },
      {
       "output_type": "stream",
       "stream": "stdout",
       "text": [
        "2014-08-14 20:32:54,651Z - INFO - ESS it 1 -- scaled LL train = -669.63 -- test set error | last f = 0.77447 -- scaled LL test | last f = -596.72 -- test set error (avg over f's)= 0.78298 -- average per-atom negative log posterior marginals = 2.0255\n"
       ]
      },
      {
       "output_type": "stream",
       "stream": "stdout",
       "text": [
        "2014-08-14 20:32:54,787Z - INFO - ESS it 2 -- scaled LL train = -668.73 -- test set error | last f = 0.8 -- scaled LL test | last f = -594.73 -- test set error (avg over f's)= 0.79149 -- average per-atom negative log posterior marginals = 2.0383\n"
       ]
      },
      {
       "output_type": "stream",
       "stream": "stdout",
       "text": [
        "2014-08-14 20:32:54,909Z - INFO - ESS it 3 -- scaled LL train = -666.17 -- test set error | last f = 0.81277 -- scaled LL test | last f = -597.84 -- test set error (avg over f's)= 0.79574 -- average per-atom negative log posterior marginals = 2.0085\n"
       ]
      },
      {
       "output_type": "stream",
       "stream": "stdout",
       "text": [
        "2014-08-14 20:32:55,017Z - INFO - ESS it 4 -- scaled LL train = -653.86 -- test set error | last f = 0.78298 -- scaled LL test | last f = -587.12 -- test set error (avg over f's)= 0.78723 -- average per-atom negative log posterior marginals = 2.017\n"
       ]
      },
      {
       "output_type": "stream",
       "stream": "stdout",
       "text": [
        "2014-08-14 20:32:55,125Z - INFO - ESS it 5 -- scaled LL train = -645.26 -- test set error | last f = 0.75745 -- scaled LL test | last f = -577.59 -- test set error (avg over f's)= 0.79149 -- average per-atom negative log posterior marginals = 1.9915\n"
       ]
      },
      {
       "output_type": "stream",
       "stream": "stdout",
       "text": [
        "2014-08-14 20:32:55,199Z - INFO - ESS it 6 -- scaled LL train = -632.13 -- test set error | last f = 0.75319 -- scaled LL test | last f = -566.05 -- test set error (avg over f's)= 0.78298 -- average per-atom negative log posterior marginals = 1.9574\n"
       ]
      },
      {
       "output_type": "stream",
       "stream": "stdout",
       "text": [
        "2014-08-14 20:32:55,314Z - INFO - ESS it 7 -- scaled LL train = -633.45 -- test set error | last f = 0.68936 -- scaled LL test | last f = -522.1 -- test set error (avg over f's)= 0.73617 -- average per-atom negative log posterior marginals = 1.8979\n"
       ]
      },
      {
       "output_type": "stream",
       "stream": "stdout",
       "text": [
        "2014-08-14 20:32:55,381Z - INFO - ESS it 8 -- scaled LL train = -627.64 -- test set error | last f = 0.68511 -- scaled LL test | last f = -512.06 -- test set error (avg over f's)= 0.7234 -- average per-atom negative log posterior marginals = 1.8383\n"
       ]
      },
      {
       "output_type": "stream",
       "stream": "stdout",
       "text": [
        "2014-08-14 20:32:55,520Z - INFO - ESS it 9 -- scaled LL train = -620.22 -- test set error | last f = 0.65532 -- scaled LL test | last f = -500.42 -- test set error (avg over f's)= 0.70213 -- average per-atom negative log posterior marginals = 1.7915\n"
       ]
      }
     ],
     "prompt_number": 7
    },
    {
     "cell_type": "markdown",
     "metadata": {},
     "source": [
      "... and now we can run the same chain for another 10 samples if we wish:"
     ]
    },
    {
     "cell_type": "code",
     "collapsed": false,
     "input": [
      "n_data=10\n",
      "# !rm -rf /tmp/pygpstruct-demo # don't erase the results folder this time !\n",
      "prepare_from_data_chain.learn_predict_gpstruct_wrapper(data_indices_train = np.arange(n_data), # training data= first 10 data files\n",
      "                                                       data_indices_test = np.arange(n_data, n_data*2), # test data= next 10 files\n",
      "                                                       result_prefix='/tmp/pygpstruct-demo/', # where to store the result files\n",
      "                                                       data_folder = pygpstruct_location + '/data/japanesene/',\n",
      "                                                       n_samples=20, # how many MCMC iterations\n",
      "                                                       task='japanesene',\n",
      "                                                       prediction_thinning=1\n",
      "                                                       )"
     ],
     "language": "python",
     "metadata": {},
     "outputs": [
      {
       "output_type": "stream",
       "stream": "stdout",
       "text": [
        "2014-08-14 20:32:58,638Z - DEBUG - learn_predict_gpstruct started with arguments: {'kernel': <function kernel_linear_unary at 0x7f6500616320>, 'console_log': True, 'random_seed': 0, 'hp_mode': 0, 'stop_check': None, 'prior': 1, 'prepare_from_data': <function <lambda> at 0x7f64ff44c050>, 'hp_bin_init': 0.01, 'prediction_thinning': 1, 'noise_param': 0.0001, 'n_f_star': 0, 'n_samples': 20, 'hp_thinning': 100000, 'result_prefix': '/tmp/pygpstruct-demo/'}\n"
       ]
      },
      {
       "output_type": "stream",
       "stream": "stdout",
       "text": [
        "2014-08-14 20:32:58,640Z - DEBUG - prepare_from_data_chain started with arguments: {'data_folder': '/home/sb358/pygpstruct/data/japanesene/', 'data_indices_train': array([0, 1, 2, 3, 4, 5, 6, 7, 8, 9]), 'n_labels': 17, 'native_implementation': False, 'data_indices_test': array([10, 11, 12, 13, 14, 15, 16, 17, 18, 19]), 'n_features_x': 102799, 'logger': <logging.Logger object at 0x7f65169c4f90>}\n"
       ]
      },
      {
       "output_type": "stream",
       "stream": "stdout",
       "text": [
        "2014-08-14 20:32:58,766Z - DEBUG - prepare kernel matrices\n"
       ]
      },
      {
       "output_type": "stream",
       "stream": "stdout",
       "text": [
        "2014-08-14 20:32:58,778Z - DEBUG - start MCMC chain\n"
       ]
      },
      {
       "output_type": "stream",
       "stream": "stdout",
       "text": [
        "2014-08-14 20:32:58,781Z - INFO - hotstart from iteration 10, including stored random state\n"
       ]
      },
      {
       "output_type": "stream",
       "stream": "stdout",
       "text": [
        "2014-08-14 20:32:58,875Z - INFO - ESS it 10 -- scaled LL train = -620.63 -- test set error | last f = 0.64255 -- scaled LL test | last f = -498.84 -- test set error (avg over f's)= 0.70638 -- average per-atom negative log posterior marginals = 1.766\n"
       ]
      },
      {
       "output_type": "stream",
       "stream": "stdout",
       "text": [
        "2014-08-14 20:32:59,006Z - INFO - ESS it 11 -- scaled LL train = -619.49 -- test set error | last f = 0.6383 -- scaled LL test | last f = -494.85 -- test set error (avg over f's)= 0.68085 -- average per-atom negative log posterior marginals = 1.7191\n"
       ]
      },
      {
       "output_type": "stream",
       "stream": "stdout",
       "text": [
        "2014-08-14 20:32:59,102Z - INFO - ESS it 12 -- scaled LL train = -617.51 -- test set error | last f = 0.64681 -- scaled LL test | last f = -491.99 -- test set error (avg over f's)= 0.68511 -- average per-atom negative log posterior marginals = 1.7064\n"
       ]
      },
      {
       "output_type": "stream",
       "stream": "stdout",
       "text": [
        "2014-08-14 20:32:59,226Z - INFO - ESS it 13 -- scaled LL train = -617.32 -- test set error | last f = 0.6383 -- scaled LL test | last f = -492.88 -- test set error (avg over f's)= 0.6766 -- average per-atom negative log posterior marginals = 1.6766\n"
       ]
      },
      {
       "output_type": "stream",
       "stream": "stdout",
       "text": [
        "2014-08-14 20:32:59,301Z - INFO - ESS it 14 -- scaled LL train = -617.32 -- test set error | last f = 0.6383 -- scaled LL test | last f = -492.89 -- test set error (avg over f's)= 0.65957 -- average per-atom negative log posterior marginals = 1.6426\n"
       ]
      },
      {
       "output_type": "stream",
       "stream": "stdout",
       "text": [
        "2014-08-14 20:32:59,390Z - INFO - ESS it 15 -- scaled LL train = -613.81 -- test set error | last f = 0.6383 -- scaled LL test | last f = -487.01 -- test set error (avg over f's)= 0.65532 -- average per-atom negative log posterior marginals = 1.6383\n"
       ]
      },
      {
       "output_type": "stream",
       "stream": "stdout",
       "text": [
        "2014-08-14 20:32:59,509Z - INFO - ESS it 16 -- scaled LL train = -613.32 -- test set error | last f = 0.64255 -- scaled LL test | last f = -486.03 -- test set error (avg over f's)= 0.65106 -- average per-atom negative log posterior marginals = 1.6255\n"
       ]
      },
      {
       "output_type": "stream",
       "stream": "stdout",
       "text": [
        "2014-08-14 20:32:59,641Z - INFO - ESS it 17 -- scaled LL train = -613.44 -- test set error | last f = 0.65957 -- scaled LL test | last f = -488.65 -- test set error (avg over f's)= 0.65532 -- average per-atom negative log posterior marginals = 1.6\n"
       ]
      },
      {
       "output_type": "stream",
       "stream": "stdout",
       "text": [
        "2014-08-14 20:32:59,779Z - INFO - ESS it 18 -- scaled LL train = -611.24 -- test set error | last f = 0.6383 -- scaled LL test | last f = -483.63 -- test set error (avg over f's)= 0.65532 -- average per-atom negative log posterior marginals = 1.6043\n"
       ]
      },
      {
       "output_type": "stream",
       "stream": "stdout",
       "text": [
        "2014-08-14 20:32:59,904Z - INFO - ESS it 19 -- scaled LL train = -610.76 -- test set error | last f = 0.64255 -- scaled LL test | last f = -480.88 -- test set error (avg over f's)= 0.65532 -- average per-atom negative log posterior marginals = 1.5872\n"
       ]
      }
     ],
     "prompt_number": 8
    }
   ],
   "metadata": {}
  }
 ]
}